{
 "cells": [
  {
   "cell_type": "code",
   "execution_count": 78,
   "id": "58d0ce1e",
   "metadata": {},
   "outputs": [],
   "source": [
    "import pandas as pd\n",
    "import numpy as np"
   ]
  },
  {
   "cell_type": "code",
   "execution_count": 79,
   "id": "1dd1bedd",
   "metadata": {},
   "outputs": [],
   "source": [
    "data=pd.read_csv(\"USA_cars_datasets.csv\",index_col=0)"
   ]
  },
  {
   "cell_type": "code",
   "execution_count": 80,
   "id": "4068d7b8",
   "metadata": {},
   "outputs": [],
   "source": [
    "data=data.drop(data[data.price==0].index,axis=0).sort_values(by=\"price\").reset_index(drop=True)"
   ]
  },
  {
   "cell_type": "code",
   "execution_count": 81,
   "id": "472b44cc",
   "metadata": {},
   "outputs": [],
   "source": [
    "def year(x):\n",
    "    return 2021-x\n",
    "data[\"year\"]=data[\"year\"].apply(year)"
   ]
  },
  {
   "cell_type": "code",
   "execution_count": 82,
   "id": "aeca6c61",
   "metadata": {},
   "outputs": [],
   "source": [
    "data.drop([\"vin\",\"lot\"],axis=1,inplace=True)"
   ]
  },
  {
   "cell_type": "code",
   "execution_count": 83,
   "id": "a9e541d9",
   "metadata": {},
   "outputs": [],
   "source": [
    "#Here is algorithm for intersection over IQR in all columns one by one.\n",
    "q1=data.quantile(0.25)\n",
    "q3=data.quantile(0.75)\n",
    "IQR=q3-q1\n",
    "lower_limit=q1-1.5*IQR\n",
    "upper_limit=q3+1.5*IQR\n",
    "data_columns=[]\n",
    "data2={}\n",
    "a=[]\n",
    "intersection=[]\n",
    "for i in data.columns:\n",
    "    if data[str(i)].dtype=='int' or data[str(i)].dtype=='float':\n",
    "        data_columns.append(i)\n",
    "        data2[\"{0}\".format(i)] =data[(data[str(i)]> lower_limit[str(i)])&(data[str(i)]< upper_limit[str(i)])]\n",
    "for i in data2:\n",
    "    for i in [i for i in list(data2[i].index)]:\n",
    "        a.append(i)\n",
    "for i in a:\n",
    "    if a.count(i)==len(data_columns):\n",
    "        intersection.append(i)\n",
    "data2=data.loc[intersection].drop_duplicates()"
   ]
  },
  {
   "cell_type": "code",
   "execution_count": 84,
   "id": "2a9e889e",
   "metadata": {},
   "outputs": [
    {
     "data": {
      "text/plain": [
       "0.9234527687296417"
      ]
     },
     "execution_count": 84,
     "metadata": {},
     "output_type": "execute_result"
    }
   ],
   "source": [
    "data2.shape[0]/data.shape[0]"
   ]
  },
  {
   "cell_type": "code",
   "execution_count": 85,
   "id": "25422a56",
   "metadata": {},
   "outputs": [],
   "source": [
    "import matplotlib.pyplot as plt"
   ]
  },
  {
   "cell_type": "code",
   "execution_count": 86,
   "id": "48c62aac",
   "metadata": {},
   "outputs": [],
   "source": [
    "data2.reset_index(drop=True,inplace=True)"
   ]
  },
  {
   "cell_type": "code",
   "execution_count": 87,
   "id": "edebba6c",
   "metadata": {},
   "outputs": [
    {
     "data": {
      "text/plain": [
       "<matplotlib.collections.PathCollection at 0x28ad4d17f70>"
      ]
     },
     "execution_count": 87,
     "metadata": {},
     "output_type": "execute_result"
    },
    {
     "data": {
      "image/png": "[encoded data removed]",
      "text/plain": [
       "<Figure size 432x288 with 1 Axes>"
      ]
     },
     "metadata": {
      "needs_background": "light"
     },
     "output_type": "display_data"
    }
   ],
   "source": [
    "plt.scatter(x=data2.price,y=data2.index)"
   ]
  },
  {
   "cell_type": "code",
   "execution_count": 88,
   "id": "6276db1a",
   "metadata": {},
   "outputs": [],
   "source": [
    "y=data2[\"price\"]"
   ]
  },
  {
   "cell_type": "code",
   "execution_count": 89,
   "id": "cc52f36c",
   "metadata": {},
   "outputs": [],
   "source": [
    "\"\"\"x=data2.drop([\"price\",\"vin\",\"lot\"],axis=1)\"\"\"\n",
    "x=data2.drop([\"price\"],axis=1)\n",
    "x=pd.get_dummies(x,drop_first=True)"
   ]
  },
  {
   "cell_type": "code",
   "execution_count": 90,
   "id": "49a7bed4",
   "metadata": {},
   "outputs": [],
   "source": [
    "from sklearn.model_selection import train_test_split\n",
    "x_train,x_test,y_train,y_test=train_test_split(x.values,y.values,test_size=0.33,random_state=42)"
   ]
  },
  {
   "cell_type": "code",
   "execution_count": 91,
   "id": "b2facc22",
   "metadata": {},
   "outputs": [
    {
     "data": {
      "text/plain": [
       "LinearRegression()"
      ]
     },
     "execution_count": 91,
     "metadata": {},
     "output_type": "execute_result"
    }
   ],
   "source": [
    "from sklearn.linear_model import LinearRegression\n",
    "regressor=LinearRegression()\n",
    "regressor.fit(x_train,y_train)"
   ]
  },
  {
   "cell_type": "code",
   "execution_count": 92,
   "id": "5a654086",
   "metadata": {},
   "outputs": [],
   "source": [
    "y_pred=regressor.predict(x_test)"
   ]
  },
  {
   "cell_type": "code",
   "execution_count": 93,
   "id": "64a9c510",
   "metadata": {},
   "outputs": [],
   "source": [
    "son=pd.DataFrame({\"Gercek\":y_test,\"Tahmin\":y_pred},columns=[\"Gercek\",\"Tahmin\"])"
   ]
  },
  {
   "cell_type": "code",
   "execution_count": 94,
   "id": "5ae40950",
   "metadata": {},
   "outputs": [
    {
     "data": {
      "text/plain": [
       "<matplotlib.collections.PathCollection at 0x28ad4895bb0>"
      ]
     },
     "execution_count": 94,
     "metadata": {},
     "output_type": "execute_result"
    },
    {
     "data": {
      "image/png": "[encoded data removed]",
      "text/plain": [
       "<Figure size 432x288 with 1 Axes>"
      ]
     },
     "metadata": {
      "needs_background": "light"
     },
     "output_type": "display_data"
    }
   ],
   "source": [
    "son.sort_values(by=\"Gercek\",inplace=True)\n",
    "son.reset_index(drop=True,inplace=True)\n",
    "plt.scatter(data=son,x=son.index,y=\"Gercek\")"
   ]
  },
  {
   "cell_type": "code",
   "execution_count": 95,
   "id": "9dd26393",
   "metadata": {},
   "outputs": [
    {
     "data": {
      "text/plain": [
       "<matplotlib.collections.PathCollection at 0x28ad490a3d0>"
      ]
     },
     "execution_count": 95,
     "metadata": {},
     "output_type": "execute_result"
    },
    {
     "data": {
      "image/png": "[encoded data removed]",
      "text/plain": [
       "<Figure size 432x288 with 1 Axes>"
      ]
     },
     "metadata": {
      "needs_background": "light"
     },
     "output_type": "display_data"
    }
   ],
   "source": [
    "plt.scatter(data=son,x=\"Gercek\",y=\"Tahmin\")"
   ]
  },
  {
   "cell_type": "code",
   "execution_count": 96,
   "id": "b4cdbcba",
   "metadata": {},
   "outputs": [
    {
     "data": {
      "text/plain": [
       "<matplotlib.collections.PathCollection at 0x28ad4972fa0>"
      ]
     },
     "execution_count": 96,
     "metadata": {},
     "output_type": "execute_result"
    },
    {
     "data": {
      "image/png": "[encoded data removed]",
      "text/plain": [
       "<Figure size 432x288 with 1 Axes>"
      ]
     },
     "metadata": {
      "needs_background": "light"
     },
     "output_type": "display_data"
    }
   ],
   "source": [
    "son.sort_values(by=\"Tahmin\",inplace=True)\n",
    "son.reset_index(drop=True,inplace=True)\n",
    "plt.scatter(data=son,x=son.index,y=\"Tahmin\")"
   ]
  },
  {
   "cell_type": "code",
   "execution_count": 97,
   "id": "f38d633a",
   "metadata": {},
   "outputs": [
    {
     "data": {
      "text/plain": [
       "0.66590489250946"
      ]
     },
     "execution_count": 97,
     "metadata": {},
     "output_type": "execute_result"
    }
   ],
   "source": [
    "from sklearn.metrics import r2_score\n",
    "r2_score(y_test,y_pred)"
   ]
  }
 ],
 "metadata": {
  "kernelspec": {
   "display_name": "Python 3",
   "language": "python",
   "name": "python3"
  },
  "language_info": {
   "codemirror_mode": {
    "name": "ipython",
    "version": 3
   },
   "file_extension": ".py",
   "mimetype": "text/x-python",
   "name": "python",
   "nbconvert_exporter": "python",
   "pygments_lexer": "ipython3",
   "version": "3.8.10"
  }
 },
 "nbformat": 4,
 "nbformat_minor": 5
}
